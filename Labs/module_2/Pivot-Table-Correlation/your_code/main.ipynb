{
 "cells": [
  {
   "cell_type": "markdown",
   "metadata": {},
   "source": [
    "# Before you start :\n",
    "   - These exercises are related to the Pivot table and correlation lessons.\n",
    "   - Keep in mind that you need to use some of the functions you learned in the previous lessons.\n",
    "   - Elaborate your codes and outputs as much as you can.\n",
    "   - Try your best to answer the questions and complete the tasks and most importantly enjoy the process!!!\n",
    "  \n",
    "#### Import all the necessary libraries here:\n"
   ]
  },
  {
   "cell_type": "code",
   "execution_count": 1,
   "metadata": {},
   "outputs": [],
   "source": [
    "import pandas as pd\n",
    "import numpy as np\n",
    "import matplotlib.pyplot as plt"
   ]
  },
  {
   "cell_type": "markdown",
   "metadata": {},
   "source": [
    "# Challenge 1\n",
    "\n",
    "#### Read the `employees` dataset from Ironhack's database:\n",
    "* db: `employees`\n",
    "* table: `employees`\n",
    "\n",
    "Save your data in a variable called `employees`."
   ]
  },
  {
   "cell_type": "code",
   "execution_count": 2,
   "metadata": {},
   "outputs": [
    {
     "data": {
      "text/html": [
       "<div>\n",
       "<style scoped>\n",
       "    .dataframe tbody tr th:only-of-type {\n",
       "        vertical-align: middle;\n",
       "    }\n",
       "\n",
       "    .dataframe tbody tr th {\n",
       "        vertical-align: top;\n",
       "    }\n",
       "\n",
       "    .dataframe thead th {\n",
       "        text-align: right;\n",
       "    }\n",
       "</style>\n",
       "<table border=\"1\" class=\"dataframe\">\n",
       "  <thead>\n",
       "    <tr style=\"text-align: right;\">\n",
       "      <th></th>\n",
       "      <th>Department</th>\n",
       "      <th>Education</th>\n",
       "      <th>Title</th>\n",
       "      <th>Name</th>\n",
       "      <th>Years</th>\n",
       "      <th>Salary</th>\n",
       "    </tr>\n",
       "  </thead>\n",
       "  <tbody>\n",
       "    <tr>\n",
       "      <th>0</th>\n",
       "      <td>Admin</td>\n",
       "      <td>Master</td>\n",
       "      <td>associate</td>\n",
       "      <td>David</td>\n",
       "      <td>4</td>\n",
       "      <td>58</td>\n",
       "    </tr>\n",
       "    <tr>\n",
       "      <th>1</th>\n",
       "      <td>IT</td>\n",
       "      <td>Master</td>\n",
       "      <td>associate</td>\n",
       "      <td>Thomas</td>\n",
       "      <td>7</td>\n",
       "      <td>45</td>\n",
       "    </tr>\n",
       "    <tr>\n",
       "      <th>2</th>\n",
       "      <td>Admin</td>\n",
       "      <td>Master</td>\n",
       "      <td>associate</td>\n",
       "      <td>Diana</td>\n",
       "      <td>10</td>\n",
       "      <td>52</td>\n",
       "    </tr>\n",
       "    <tr>\n",
       "      <th>3</th>\n",
       "      <td>Admin</td>\n",
       "      <td>Master</td>\n",
       "      <td>VP</td>\n",
       "      <td>Manuella</td>\n",
       "      <td>15</td>\n",
       "      <td>33</td>\n",
       "    </tr>\n",
       "    <tr>\n",
       "      <th>4</th>\n",
       "      <td>Sales</td>\n",
       "      <td>Master</td>\n",
       "      <td>Analyst</td>\n",
       "      <td>Carla</td>\n",
       "      <td>6</td>\n",
       "      <td>38</td>\n",
       "    </tr>\n",
       "    <tr>\n",
       "      <th>...</th>\n",
       "      <td>...</td>\n",
       "      <td>...</td>\n",
       "      <td>...</td>\n",
       "      <td>...</td>\n",
       "      <td>...</td>\n",
       "      <td>...</td>\n",
       "    </tr>\n",
       "    <tr>\n",
       "      <th>495</th>\n",
       "      <td>Sales</td>\n",
       "      <td>PhD</td>\n",
       "      <td>VP</td>\n",
       "      <td>Calvin</td>\n",
       "      <td>2</td>\n",
       "      <td>119</td>\n",
       "    </tr>\n",
       "    <tr>\n",
       "      <th>496</th>\n",
       "      <td>HR</td>\n",
       "      <td>Master</td>\n",
       "      <td>Analyst</td>\n",
       "      <td>Dustin</td>\n",
       "      <td>6</td>\n",
       "      <td>67</td>\n",
       "    </tr>\n",
       "    <tr>\n",
       "      <th>497</th>\n",
       "      <td>Sales</td>\n",
       "      <td>PhD</td>\n",
       "      <td>VP</td>\n",
       "      <td>Winston</td>\n",
       "      <td>13</td>\n",
       "      <td>93</td>\n",
       "    </tr>\n",
       "    <tr>\n",
       "      <th>498</th>\n",
       "      <td>IT</td>\n",
       "      <td>PhD</td>\n",
       "      <td>Analyst</td>\n",
       "      <td>Earl</td>\n",
       "      <td>12</td>\n",
       "      <td>108</td>\n",
       "    </tr>\n",
       "    <tr>\n",
       "      <th>499</th>\n",
       "      <td>Sales</td>\n",
       "      <td>Master</td>\n",
       "      <td>Analyst</td>\n",
       "      <td>Alvin</td>\n",
       "      <td>13</td>\n",
       "      <td>48</td>\n",
       "    </tr>\n",
       "  </tbody>\n",
       "</table>\n",
       "<p>500 rows × 6 columns</p>\n",
       "</div>"
      ],
      "text/plain": [
       "    Department Education      Title      Name  Years  Salary\n",
       "0        Admin    Master  associate     David      4      58\n",
       "1           IT    Master  associate    Thomas      7      45\n",
       "2        Admin    Master  associate     Diana     10      52\n",
       "3        Admin    Master         VP  Manuella     15      33\n",
       "4        Sales    Master    Analyst     Carla      6      38\n",
       "..         ...       ...        ...       ...    ...     ...\n",
       "495      Sales       PhD         VP    Calvin      2     119\n",
       "496         HR    Master    Analyst    Dustin      6      67\n",
       "497      Sales       PhD         VP   Winston     13      93\n",
       "498         IT       PhD    Analyst      Earl     12     108\n",
       "499      Sales    Master    Analyst     Alvin     13      48\n",
       "\n",
       "[500 rows x 6 columns]"
      ]
     },
     "execution_count": 2,
     "metadata": {},
     "output_type": "execute_result"
    }
   ],
   "source": [
    "employees = pd.read_csv('employees.csv')\n",
    "employees"
   ]
  },
  {
   "cell_type": "markdown",
   "metadata": {},
   "source": [
    "#### What's the mean `Salary` by `Department`?\n",
    "**Tip**: There are 2 ways to do it: with or without pivot tables. Do it both ways. "
   ]
  },
  {
   "cell_type": "code",
   "execution_count": 3,
   "metadata": {},
   "outputs": [
    {
     "data": {
      "text/html": [
       "<div>\n",
       "<style scoped>\n",
       "    .dataframe tbody tr th:only-of-type {\n",
       "        vertical-align: middle;\n",
       "    }\n",
       "\n",
       "    .dataframe tbody tr th {\n",
       "        vertical-align: top;\n",
       "    }\n",
       "\n",
       "    .dataframe thead th {\n",
       "        text-align: right;\n",
       "    }\n",
       "</style>\n",
       "<table border=\"1\" class=\"dataframe\">\n",
       "  <thead>\n",
       "    <tr style=\"text-align: right;\">\n",
       "      <th></th>\n",
       "      <th>Salary</th>\n",
       "    </tr>\n",
       "    <tr>\n",
       "      <th>Department</th>\n",
       "      <th></th>\n",
       "    </tr>\n",
       "  </thead>\n",
       "  <tbody>\n",
       "    <tr>\n",
       "      <th>Admin</th>\n",
       "      <td>76.325203</td>\n",
       "    </tr>\n",
       "    <tr>\n",
       "      <th>HR</th>\n",
       "      <td>74.237705</td>\n",
       "    </tr>\n",
       "    <tr>\n",
       "      <th>IT</th>\n",
       "      <td>70.671642</td>\n",
       "    </tr>\n",
       "    <tr>\n",
       "      <th>Sales</th>\n",
       "      <td>73.132231</td>\n",
       "    </tr>\n",
       "  </tbody>\n",
       "</table>\n",
       "</div>"
      ],
      "text/plain": [
       "               Salary\n",
       "Department           \n",
       "Admin       76.325203\n",
       "HR          74.237705\n",
       "IT          70.671642\n",
       "Sales       73.132231"
      ]
     },
     "execution_count": 3,
     "metadata": {},
     "output_type": "execute_result"
    }
   ],
   "source": [
    "# Method 1\n",
    "# your code here\n",
    "employees.pivot_table(index='Department', values='Salary')"
   ]
  },
  {
   "cell_type": "code",
   "execution_count": 4,
   "metadata": {},
   "outputs": [
    {
     "data": {
      "text/html": [
       "<div>\n",
       "<style scoped>\n",
       "    .dataframe tbody tr th:only-of-type {\n",
       "        vertical-align: middle;\n",
       "    }\n",
       "\n",
       "    .dataframe tbody tr th {\n",
       "        vertical-align: top;\n",
       "    }\n",
       "\n",
       "    .dataframe thead th {\n",
       "        text-align: right;\n",
       "    }\n",
       "</style>\n",
       "<table border=\"1\" class=\"dataframe\">\n",
       "  <thead>\n",
       "    <tr style=\"text-align: right;\">\n",
       "      <th></th>\n",
       "      <th>Salary</th>\n",
       "    </tr>\n",
       "    <tr>\n",
       "      <th>Department</th>\n",
       "      <th></th>\n",
       "    </tr>\n",
       "  </thead>\n",
       "  <tbody>\n",
       "    <tr>\n",
       "      <th>Admin</th>\n",
       "      <td>76.325203</td>\n",
       "    </tr>\n",
       "    <tr>\n",
       "      <th>HR</th>\n",
       "      <td>74.237705</td>\n",
       "    </tr>\n",
       "    <tr>\n",
       "      <th>IT</th>\n",
       "      <td>70.671642</td>\n",
       "    </tr>\n",
       "    <tr>\n",
       "      <th>Sales</th>\n",
       "      <td>73.132231</td>\n",
       "    </tr>\n",
       "  </tbody>\n",
       "</table>\n",
       "</div>"
      ],
      "text/plain": [
       "               Salary\n",
       "Department           \n",
       "Admin       76.325203\n",
       "HR          74.237705\n",
       "IT          70.671642\n",
       "Sales       73.132231"
      ]
     },
     "execution_count": 4,
     "metadata": {},
     "output_type": "execute_result"
    }
   ],
   "source": [
    "# Method 2\n",
    "# your code here\n",
    "employees.groupby(['Department']).mean().drop(['Years'], axis=1)"
   ]
  },
  {
   "cell_type": "markdown",
   "metadata": {},
   "source": [
    "#### Now, group the data by more than one column. Use Pandas pivot table function to select the mean `Salary` by `Department` and `Title`."
   ]
  },
  {
   "cell_type": "code",
   "execution_count": 5,
   "metadata": {},
   "outputs": [
    {
     "data": {
      "text/html": [
       "<div>\n",
       "<style scoped>\n",
       "    .dataframe tbody tr th:only-of-type {\n",
       "        vertical-align: middle;\n",
       "    }\n",
       "\n",
       "    .dataframe tbody tr th {\n",
       "        vertical-align: top;\n",
       "    }\n",
       "\n",
       "    .dataframe thead th {\n",
       "        text-align: right;\n",
       "    }\n",
       "</style>\n",
       "<table border=\"1\" class=\"dataframe\">\n",
       "  <thead>\n",
       "    <tr style=\"text-align: right;\">\n",
       "      <th></th>\n",
       "      <th></th>\n",
       "      <th>Salary</th>\n",
       "    </tr>\n",
       "    <tr>\n",
       "      <th>Department</th>\n",
       "      <th>Title</th>\n",
       "      <th></th>\n",
       "    </tr>\n",
       "  </thead>\n",
       "  <tbody>\n",
       "    <tr>\n",
       "      <th rowspan=\"3\" valign=\"top\">Admin</th>\n",
       "      <th>Analyst</th>\n",
       "      <td>77.736842</td>\n",
       "    </tr>\n",
       "    <tr>\n",
       "      <th>VP</th>\n",
       "      <td>75.571429</td>\n",
       "    </tr>\n",
       "    <tr>\n",
       "      <th>associate</th>\n",
       "      <td>75.813953</td>\n",
       "    </tr>\n",
       "    <tr>\n",
       "      <th rowspan=\"3\" valign=\"top\">HR</th>\n",
       "      <th>Analyst</th>\n",
       "      <td>71.404762</td>\n",
       "    </tr>\n",
       "    <tr>\n",
       "      <th>VP</th>\n",
       "      <td>75.441176</td>\n",
       "    </tr>\n",
       "    <tr>\n",
       "      <th>associate</th>\n",
       "      <td>75.934783</td>\n",
       "    </tr>\n",
       "    <tr>\n",
       "      <th rowspan=\"3\" valign=\"top\">IT</th>\n",
       "      <th>Analyst</th>\n",
       "      <td>69.600000</td>\n",
       "    </tr>\n",
       "    <tr>\n",
       "      <th>VP</th>\n",
       "      <td>74.000000</td>\n",
       "    </tr>\n",
       "    <tr>\n",
       "      <th>associate</th>\n",
       "      <td>68.095238</td>\n",
       "    </tr>\n",
       "    <tr>\n",
       "      <th rowspan=\"3\" valign=\"top\">Sales</th>\n",
       "      <th>Analyst</th>\n",
       "      <td>76.074074</td>\n",
       "    </tr>\n",
       "    <tr>\n",
       "      <th>VP</th>\n",
       "      <td>66.675000</td>\n",
       "    </tr>\n",
       "    <tr>\n",
       "      <th>associate</th>\n",
       "      <td>76.814815</td>\n",
       "    </tr>\n",
       "  </tbody>\n",
       "</table>\n",
       "</div>"
      ],
      "text/plain": [
       "                         Salary\n",
       "Department Title               \n",
       "Admin      Analyst    77.736842\n",
       "           VP         75.571429\n",
       "           associate  75.813953\n",
       "HR         Analyst    71.404762\n",
       "           VP         75.441176\n",
       "           associate  75.934783\n",
       "IT         Analyst    69.600000\n",
       "           VP         74.000000\n",
       "           associate  68.095238\n",
       "Sales      Analyst    76.074074\n",
       "           VP         66.675000\n",
       "           associate  76.814815"
      ]
     },
     "execution_count": 5,
     "metadata": {},
     "output_type": "execute_result"
    }
   ],
   "source": [
    "pd.pivot_table(employees, index=['Department', 'Title'], values='Salary')"
   ]
  },
  {
   "cell_type": "markdown",
   "metadata": {},
   "source": [
    "#### Display the number of `Years` of work experience and the `Salary` for each `Title`. Add `Years` as a column in your pivot table.\n",
    "**Hint**: Use Pandas documentation to explore the [pivot table](https://pandas.pydata.org/pandas-docs/stable/reference/api/pandas.pivot_table.html) function."
   ]
  },
  {
   "cell_type": "code",
   "execution_count": 6,
   "metadata": {},
   "outputs": [
    {
     "data": {
      "text/html": [
       "<div>\n",
       "<style scoped>\n",
       "    .dataframe tbody tr th:only-of-type {\n",
       "        vertical-align: middle;\n",
       "    }\n",
       "\n",
       "    .dataframe tbody tr th {\n",
       "        vertical-align: top;\n",
       "    }\n",
       "\n",
       "    .dataframe thead th {\n",
       "        text-align: right;\n",
       "    }\n",
       "</style>\n",
       "<table border=\"1\" class=\"dataframe\">\n",
       "  <thead>\n",
       "    <tr style=\"text-align: right;\">\n",
       "      <th>Years</th>\n",
       "      <th>1</th>\n",
       "      <th>2</th>\n",
       "      <th>3</th>\n",
       "      <th>4</th>\n",
       "      <th>5</th>\n",
       "      <th>6</th>\n",
       "      <th>7</th>\n",
       "      <th>8</th>\n",
       "      <th>9</th>\n",
       "      <th>10</th>\n",
       "      <th>11</th>\n",
       "      <th>12</th>\n",
       "      <th>13</th>\n",
       "      <th>14</th>\n",
       "      <th>15</th>\n",
       "    </tr>\n",
       "    <tr>\n",
       "      <th>Title</th>\n",
       "      <th></th>\n",
       "      <th></th>\n",
       "      <th></th>\n",
       "      <th></th>\n",
       "      <th></th>\n",
       "      <th></th>\n",
       "      <th></th>\n",
       "      <th></th>\n",
       "      <th></th>\n",
       "      <th></th>\n",
       "      <th></th>\n",
       "      <th></th>\n",
       "      <th></th>\n",
       "      <th></th>\n",
       "      <th></th>\n",
       "    </tr>\n",
       "  </thead>\n",
       "  <tbody>\n",
       "    <tr>\n",
       "      <th>Analyst</th>\n",
       "      <td>75.000000</td>\n",
       "      <td>63.384615</td>\n",
       "      <td>73.388889</td>\n",
       "      <td>77.600000</td>\n",
       "      <td>77.615385</td>\n",
       "      <td>87.444444</td>\n",
       "      <td>67.000000</td>\n",
       "      <td>78.000000</td>\n",
       "      <td>86.454545</td>\n",
       "      <td>73.666667</td>\n",
       "      <td>71.181818</td>\n",
       "      <td>68.642857</td>\n",
       "      <td>69.571429</td>\n",
       "      <td>70.000000</td>\n",
       "      <td>71.200000</td>\n",
       "    </tr>\n",
       "    <tr>\n",
       "      <th>VP</th>\n",
       "      <td>74.714286</td>\n",
       "      <td>83.200000</td>\n",
       "      <td>69.000000</td>\n",
       "      <td>82.333333</td>\n",
       "      <td>80.000000</td>\n",
       "      <td>61.071429</td>\n",
       "      <td>78.692308</td>\n",
       "      <td>54.181818</td>\n",
       "      <td>65.666667</td>\n",
       "      <td>70.400000</td>\n",
       "      <td>79.363636</td>\n",
       "      <td>76.222222</td>\n",
       "      <td>87.000000</td>\n",
       "      <td>74.785714</td>\n",
       "      <td>72.272727</td>\n",
       "    </tr>\n",
       "    <tr>\n",
       "      <th>associate</th>\n",
       "      <td>77.333333</td>\n",
       "      <td>83.250000</td>\n",
       "      <td>83.562500</td>\n",
       "      <td>73.300000</td>\n",
       "      <td>64.333333</td>\n",
       "      <td>74.454545</td>\n",
       "      <td>70.166667</td>\n",
       "      <td>69.500000</td>\n",
       "      <td>76.090909</td>\n",
       "      <td>73.941176</td>\n",
       "      <td>73.750000</td>\n",
       "      <td>77.700000</td>\n",
       "      <td>62.222222</td>\n",
       "      <td>62.800000</td>\n",
       "      <td>64.500000</td>\n",
       "    </tr>\n",
       "  </tbody>\n",
       "</table>\n",
       "</div>"
      ],
      "text/plain": [
       "Years             1          2          3          4          5          6   \\\n",
       "Title                                                                         \n",
       "Analyst    75.000000  63.384615  73.388889  77.600000  77.615385  87.444444   \n",
       "VP         74.714286  83.200000  69.000000  82.333333  80.000000  61.071429   \n",
       "associate  77.333333  83.250000  83.562500  73.300000  64.333333  74.454545   \n",
       "\n",
       "Years             7          8          9          10         11         12  \\\n",
       "Title                                                                         \n",
       "Analyst    67.000000  78.000000  86.454545  73.666667  71.181818  68.642857   \n",
       "VP         78.692308  54.181818  65.666667  70.400000  79.363636  76.222222   \n",
       "associate  70.166667  69.500000  76.090909  73.941176  73.750000  77.700000   \n",
       "\n",
       "Years             13         14         15  \n",
       "Title                                       \n",
       "Analyst    69.571429  70.000000  71.200000  \n",
       "VP         87.000000  74.785714  72.272727  \n",
       "associate  62.222222  62.800000  64.500000  "
      ]
     },
     "execution_count": 6,
     "metadata": {},
     "output_type": "execute_result"
    }
   ],
   "source": [
    "# your code here\n",
    "employees.pivot_table(index='Title', columns='Years', values='Salary')"
   ]
  },
  {
   "cell_type": "markdown",
   "metadata": {},
   "source": [
    "#### Find the mean `Salary` and number of employees in each `Department` and for each job `Title`."
   ]
  },
  {
   "cell_type": "code",
   "execution_count": 7,
   "metadata": {},
   "outputs": [
    {
     "data": {
      "text/html": [
       "<div>\n",
       "<style scoped>\n",
       "    .dataframe tbody tr th:only-of-type {\n",
       "        vertical-align: middle;\n",
       "    }\n",
       "\n",
       "    .dataframe tbody tr th {\n",
       "        vertical-align: top;\n",
       "    }\n",
       "\n",
       "    .dataframe thead tr th {\n",
       "        text-align: left;\n",
       "    }\n",
       "\n",
       "    .dataframe thead tr:last-of-type th {\n",
       "        text-align: right;\n",
       "    }\n",
       "</style>\n",
       "<table border=\"1\" class=\"dataframe\">\n",
       "  <thead>\n",
       "    <tr>\n",
       "      <th></th>\n",
       "      <th></th>\n",
       "      <th>mean</th>\n",
       "      <th>len</th>\n",
       "    </tr>\n",
       "    <tr>\n",
       "      <th></th>\n",
       "      <th></th>\n",
       "      <th>Salary</th>\n",
       "      <th>Salary</th>\n",
       "    </tr>\n",
       "    <tr>\n",
       "      <th>Department</th>\n",
       "      <th>Title</th>\n",
       "      <th></th>\n",
       "      <th></th>\n",
       "    </tr>\n",
       "  </thead>\n",
       "  <tbody>\n",
       "    <tr>\n",
       "      <th rowspan=\"3\" valign=\"top\">Admin</th>\n",
       "      <th>Analyst</th>\n",
       "      <td>77.736842</td>\n",
       "      <td>38</td>\n",
       "    </tr>\n",
       "    <tr>\n",
       "      <th>VP</th>\n",
       "      <td>75.571429</td>\n",
       "      <td>42</td>\n",
       "    </tr>\n",
       "    <tr>\n",
       "      <th>associate</th>\n",
       "      <td>75.813953</td>\n",
       "      <td>43</td>\n",
       "    </tr>\n",
       "    <tr>\n",
       "      <th rowspan=\"3\" valign=\"top\">HR</th>\n",
       "      <th>Analyst</th>\n",
       "      <td>71.404762</td>\n",
       "      <td>42</td>\n",
       "    </tr>\n",
       "    <tr>\n",
       "      <th>VP</th>\n",
       "      <td>75.441176</td>\n",
       "      <td>34</td>\n",
       "    </tr>\n",
       "    <tr>\n",
       "      <th>associate</th>\n",
       "      <td>75.934783</td>\n",
       "      <td>46</td>\n",
       "    </tr>\n",
       "    <tr>\n",
       "      <th rowspan=\"3\" valign=\"top\">IT</th>\n",
       "      <th>Analyst</th>\n",
       "      <td>69.600000</td>\n",
       "      <td>45</td>\n",
       "    </tr>\n",
       "    <tr>\n",
       "      <th>VP</th>\n",
       "      <td>74.000000</td>\n",
       "      <td>47</td>\n",
       "    </tr>\n",
       "    <tr>\n",
       "      <th>associate</th>\n",
       "      <td>68.095238</td>\n",
       "      <td>42</td>\n",
       "    </tr>\n",
       "    <tr>\n",
       "      <th rowspan=\"3\" valign=\"top\">Sales</th>\n",
       "      <th>Analyst</th>\n",
       "      <td>76.074074</td>\n",
       "      <td>54</td>\n",
       "    </tr>\n",
       "    <tr>\n",
       "      <th>VP</th>\n",
       "      <td>66.675000</td>\n",
       "      <td>40</td>\n",
       "    </tr>\n",
       "    <tr>\n",
       "      <th>associate</th>\n",
       "      <td>76.814815</td>\n",
       "      <td>27</td>\n",
       "    </tr>\n",
       "  </tbody>\n",
       "</table>\n",
       "</div>"
      ],
      "text/plain": [
       "                           mean    len\n",
       "                         Salary Salary\n",
       "Department Title                      \n",
       "Admin      Analyst    77.736842     38\n",
       "           VP         75.571429     42\n",
       "           associate  75.813953     43\n",
       "HR         Analyst    71.404762     42\n",
       "           VP         75.441176     34\n",
       "           associate  75.934783     46\n",
       "IT         Analyst    69.600000     45\n",
       "           VP         74.000000     47\n",
       "           associate  68.095238     42\n",
       "Sales      Analyst    76.074074     54\n",
       "           VP         66.675000     40\n",
       "           associate  76.814815     27"
      ]
     },
     "execution_count": 7,
     "metadata": {},
     "output_type": "execute_result"
    }
   ],
   "source": [
    "# your code here    ##Not working, cf correction\n",
    "employees.pivot_table(index=['Department','Title'], values='Salary', aggfunc=[np.mean, len])"
   ]
  },
  {
   "cell_type": "markdown",
   "metadata": {},
   "source": [
    "#### For each `Department` and each job `Title`, find the `Salary` median, minimum, maximum and standard deviation. Comment your results."
   ]
  },
  {
   "cell_type": "code",
   "execution_count": 8,
   "metadata": {},
   "outputs": [
    {
     "data": {
      "text/html": [
       "<div>\n",
       "<style scoped>\n",
       "    .dataframe tbody tr th:only-of-type {\n",
       "        vertical-align: middle;\n",
       "    }\n",
       "\n",
       "    .dataframe tbody tr th {\n",
       "        vertical-align: top;\n",
       "    }\n",
       "\n",
       "    .dataframe thead tr th {\n",
       "        text-align: left;\n",
       "    }\n",
       "\n",
       "    .dataframe thead tr:last-of-type th {\n",
       "        text-align: right;\n",
       "    }\n",
       "</style>\n",
       "<table border=\"1\" class=\"dataframe\">\n",
       "  <thead>\n",
       "    <tr>\n",
       "      <th></th>\n",
       "      <th></th>\n",
       "      <th>median</th>\n",
       "      <th>min</th>\n",
       "      <th>max</th>\n",
       "      <th>std</th>\n",
       "    </tr>\n",
       "    <tr>\n",
       "      <th></th>\n",
       "      <th></th>\n",
       "      <th>Salary</th>\n",
       "      <th>Salary</th>\n",
       "      <th>Salary</th>\n",
       "      <th>Salary</th>\n",
       "    </tr>\n",
       "    <tr>\n",
       "      <th>Department</th>\n",
       "      <th>Title</th>\n",
       "      <th></th>\n",
       "      <th></th>\n",
       "      <th></th>\n",
       "      <th></th>\n",
       "    </tr>\n",
       "  </thead>\n",
       "  <tbody>\n",
       "    <tr>\n",
       "      <th rowspan=\"3\" valign=\"top\">Admin</th>\n",
       "      <th>Analyst</th>\n",
       "      <td>80.5</td>\n",
       "      <td>33</td>\n",
       "      <td>120</td>\n",
       "      <td>26.335347</td>\n",
       "    </tr>\n",
       "    <tr>\n",
       "      <th>VP</th>\n",
       "      <td>75.5</td>\n",
       "      <td>31</td>\n",
       "      <td>120</td>\n",
       "      <td>24.927351</td>\n",
       "    </tr>\n",
       "    <tr>\n",
       "      <th>associate</th>\n",
       "      <td>79.0</td>\n",
       "      <td>30</td>\n",
       "      <td>119</td>\n",
       "      <td>26.524253</td>\n",
       "    </tr>\n",
       "    <tr>\n",
       "      <th rowspan=\"3\" valign=\"top\">HR</th>\n",
       "      <th>Analyst</th>\n",
       "      <td>72.5</td>\n",
       "      <td>31</td>\n",
       "      <td>119</td>\n",
       "      <td>25.093056</td>\n",
       "    </tr>\n",
       "    <tr>\n",
       "      <th>VP</th>\n",
       "      <td>76.5</td>\n",
       "      <td>32</td>\n",
       "      <td>119</td>\n",
       "      <td>26.594817</td>\n",
       "    </tr>\n",
       "    <tr>\n",
       "      <th>associate</th>\n",
       "      <td>76.0</td>\n",
       "      <td>30</td>\n",
       "      <td>119</td>\n",
       "      <td>28.063739</td>\n",
       "    </tr>\n",
       "    <tr>\n",
       "      <th rowspan=\"3\" valign=\"top\">IT</th>\n",
       "      <th>Analyst</th>\n",
       "      <td>69.0</td>\n",
       "      <td>30</td>\n",
       "      <td>119</td>\n",
       "      <td>28.418464</td>\n",
       "    </tr>\n",
       "    <tr>\n",
       "      <th>VP</th>\n",
       "      <td>71.0</td>\n",
       "      <td>31</td>\n",
       "      <td>120</td>\n",
       "      <td>25.568323</td>\n",
       "    </tr>\n",
       "    <tr>\n",
       "      <th>associate</th>\n",
       "      <td>59.5</td>\n",
       "      <td>33</td>\n",
       "      <td>117</td>\n",
       "      <td>28.557866</td>\n",
       "    </tr>\n",
       "    <tr>\n",
       "      <th rowspan=\"3\" valign=\"top\">Sales</th>\n",
       "      <th>Analyst</th>\n",
       "      <td>72.0</td>\n",
       "      <td>30</td>\n",
       "      <td>120</td>\n",
       "      <td>27.855999</td>\n",
       "    </tr>\n",
       "    <tr>\n",
       "      <th>VP</th>\n",
       "      <td>60.0</td>\n",
       "      <td>30</td>\n",
       "      <td>119</td>\n",
       "      <td>27.017931</td>\n",
       "    </tr>\n",
       "    <tr>\n",
       "      <th>associate</th>\n",
       "      <td>79.0</td>\n",
       "      <td>31</td>\n",
       "      <td>120</td>\n",
       "      <td>28.266638</td>\n",
       "    </tr>\n",
       "  </tbody>\n",
       "</table>\n",
       "</div>"
      ],
      "text/plain": [
       "                     median    min    max        std\n",
       "                     Salary Salary Salary     Salary\n",
       "Department Title                                    \n",
       "Admin      Analyst     80.5     33    120  26.335347\n",
       "           VP          75.5     31    120  24.927351\n",
       "           associate   79.0     30    119  26.524253\n",
       "HR         Analyst     72.5     31    119  25.093056\n",
       "           VP          76.5     32    119  26.594817\n",
       "           associate   76.0     30    119  28.063739\n",
       "IT         Analyst     69.0     30    119  28.418464\n",
       "           VP          71.0     31    120  25.568323\n",
       "           associate   59.5     33    117  28.557866\n",
       "Sales      Analyst     72.0     30    120  27.855999\n",
       "           VP          60.0     30    119  27.017931\n",
       "           associate   79.0     31    120  28.266638"
      ]
     },
     "execution_count": 8,
     "metadata": {},
     "output_type": "execute_result"
    }
   ],
   "source": [
    "# your code here\n",
    "employees.pivot_table(index=['Department','Title'], values='Salary', aggfunc=['median','min', 'max', 'std'])"
   ]
  },
  {
   "cell_type": "code",
   "execution_count": null,
   "metadata": {},
   "outputs": [],
   "source": [
    "\"\"\"\n",
    "your commments here\n",
    "\"\"\""
   ]
  },
  {
   "cell_type": "markdown",
   "metadata": {},
   "source": [
    "#### Based on your comments, fill the missing values with an appropriate value."
   ]
  },
  {
   "cell_type": "code",
   "execution_count": null,
   "metadata": {},
   "outputs": [],
   "source": [
    "# your code here\n",
    "\"\"\"\n",
    "There are no missing values, but if there were :\n",
    "df.fillna(0, inplace=True)\n",
    "\"\"\""
   ]
  },
  {
   "cell_type": "markdown",
   "metadata": {},
   "source": [
    "#### The stake holders want to know, for each `Department`, the number of employees and how much money is spent on salaries. Could you provide that information? "
   ]
  },
  {
   "cell_type": "code",
   "execution_count": 9,
   "metadata": {},
   "outputs": [
    {
     "data": {
      "text/html": [
       "<div>\n",
       "<style scoped>\n",
       "    .dataframe tbody tr th:only-of-type {\n",
       "        vertical-align: middle;\n",
       "    }\n",
       "\n",
       "    .dataframe tbody tr th {\n",
       "        vertical-align: top;\n",
       "    }\n",
       "\n",
       "    .dataframe thead tr th {\n",
       "        text-align: left;\n",
       "    }\n",
       "\n",
       "    .dataframe thead tr:last-of-type th {\n",
       "        text-align: right;\n",
       "    }\n",
       "</style>\n",
       "<table border=\"1\" class=\"dataframe\">\n",
       "  <thead>\n",
       "    <tr>\n",
       "      <th></th>\n",
       "      <th>count</th>\n",
       "      <th>sum</th>\n",
       "    </tr>\n",
       "    <tr>\n",
       "      <th></th>\n",
       "      <th>Salary</th>\n",
       "      <th>Salary</th>\n",
       "    </tr>\n",
       "    <tr>\n",
       "      <th>Department</th>\n",
       "      <th></th>\n",
       "      <th></th>\n",
       "    </tr>\n",
       "  </thead>\n",
       "  <tbody>\n",
       "    <tr>\n",
       "      <th>Admin</th>\n",
       "      <td>123</td>\n",
       "      <td>9388</td>\n",
       "    </tr>\n",
       "    <tr>\n",
       "      <th>HR</th>\n",
       "      <td>122</td>\n",
       "      <td>9057</td>\n",
       "    </tr>\n",
       "    <tr>\n",
       "      <th>IT</th>\n",
       "      <td>134</td>\n",
       "      <td>9470</td>\n",
       "    </tr>\n",
       "    <tr>\n",
       "      <th>Sales</th>\n",
       "      <td>121</td>\n",
       "      <td>8849</td>\n",
       "    </tr>\n",
       "  </tbody>\n",
       "</table>\n",
       "</div>"
      ],
      "text/plain": [
       "            count    sum\n",
       "           Salary Salary\n",
       "Department              \n",
       "Admin         123   9388\n",
       "HR            122   9057\n",
       "IT            134   9470\n",
       "Sales         121   8849"
      ]
     },
     "execution_count": 9,
     "metadata": {},
     "output_type": "execute_result"
    }
   ],
   "source": [
    "# your code here\n",
    "employees.pivot_table(index=['Department'], values='Salary', aggfunc=['count', 'sum'])"
   ]
  },
  {
   "cell_type": "markdown",
   "metadata": {},
   "source": [
    "#### For each `Department` and `Title`, find the the total years of work experience and the mean `Salary`."
   ]
  },
  {
   "cell_type": "code",
   "execution_count": 10,
   "metadata": {},
   "outputs": [
    {
     "data": {
      "text/html": [
       "<div>\n",
       "<style scoped>\n",
       "    .dataframe tbody tr th:only-of-type {\n",
       "        vertical-align: middle;\n",
       "    }\n",
       "\n",
       "    .dataframe tbody tr th {\n",
       "        vertical-align: top;\n",
       "    }\n",
       "\n",
       "    .dataframe thead th {\n",
       "        text-align: right;\n",
       "    }\n",
       "</style>\n",
       "<table border=\"1\" class=\"dataframe\">\n",
       "  <thead>\n",
       "    <tr style=\"text-align: right;\">\n",
       "      <th></th>\n",
       "      <th></th>\n",
       "      <th>Salary</th>\n",
       "      <th>Years</th>\n",
       "    </tr>\n",
       "    <tr>\n",
       "      <th>Department</th>\n",
       "      <th>Title</th>\n",
       "      <th></th>\n",
       "      <th></th>\n",
       "    </tr>\n",
       "  </thead>\n",
       "  <tbody>\n",
       "    <tr>\n",
       "      <th rowspan=\"3\" valign=\"top\">Admin</th>\n",
       "      <th>Analyst</th>\n",
       "      <td>77.736842</td>\n",
       "      <td>292</td>\n",
       "    </tr>\n",
       "    <tr>\n",
       "      <th>VP</th>\n",
       "      <td>75.571429</td>\n",
       "      <td>342</td>\n",
       "    </tr>\n",
       "    <tr>\n",
       "      <th>associate</th>\n",
       "      <td>75.813953</td>\n",
       "      <td>306</td>\n",
       "    </tr>\n",
       "    <tr>\n",
       "      <th rowspan=\"3\" valign=\"top\">HR</th>\n",
       "      <th>Analyst</th>\n",
       "      <td>71.404762</td>\n",
       "      <td>326</td>\n",
       "    </tr>\n",
       "    <tr>\n",
       "      <th>VP</th>\n",
       "      <td>75.441176</td>\n",
       "      <td>198</td>\n",
       "    </tr>\n",
       "    <tr>\n",
       "      <th>associate</th>\n",
       "      <td>75.934783</td>\n",
       "      <td>351</td>\n",
       "    </tr>\n",
       "    <tr>\n",
       "      <th rowspan=\"3\" valign=\"top\">IT</th>\n",
       "      <th>Analyst</th>\n",
       "      <td>69.600000</td>\n",
       "      <td>346</td>\n",
       "    </tr>\n",
       "    <tr>\n",
       "      <th>VP</th>\n",
       "      <td>74.000000</td>\n",
       "      <td>409</td>\n",
       "    </tr>\n",
       "    <tr>\n",
       "      <th>associate</th>\n",
       "      <td>68.095238</td>\n",
       "      <td>336</td>\n",
       "    </tr>\n",
       "    <tr>\n",
       "      <th rowspan=\"3\" valign=\"top\">Sales</th>\n",
       "      <th>Analyst</th>\n",
       "      <td>76.074074</td>\n",
       "      <td>441</td>\n",
       "    </tr>\n",
       "    <tr>\n",
       "      <th>VP</th>\n",
       "      <td>66.675000</td>\n",
       "      <td>293</td>\n",
       "    </tr>\n",
       "    <tr>\n",
       "      <th>associate</th>\n",
       "      <td>76.814815</td>\n",
       "      <td>138</td>\n",
       "    </tr>\n",
       "  </tbody>\n",
       "</table>\n",
       "</div>"
      ],
      "text/plain": [
       "                         Salary  Years\n",
       "Department Title                      \n",
       "Admin      Analyst    77.736842    292\n",
       "           VP         75.571429    342\n",
       "           associate  75.813953    306\n",
       "HR         Analyst    71.404762    326\n",
       "           VP         75.441176    198\n",
       "           associate  75.934783    351\n",
       "IT         Analyst    69.600000    346\n",
       "           VP         74.000000    409\n",
       "           associate  68.095238    336\n",
       "Sales      Analyst    76.074074    441\n",
       "           VP         66.675000    293\n",
       "           associate  76.814815    138"
      ]
     },
     "execution_count": 10,
     "metadata": {},
     "output_type": "execute_result"
    }
   ],
   "source": [
    "# your code here\n",
    "employees.pivot_table(index=['Department','Title'],\n",
    "                      values=['Salary', 'Years'],\n",
    "                      aggfunc={'Years': np.sum, 'Salary': np.mean})"
   ]
  },
  {
   "cell_type": "markdown",
   "metadata": {},
   "source": [
    "## Bonus Challenge 1\n",
    "\n",
    "#### Compute the mean `Salary` after removing the maximum `Salary` for each `Department`. Create the appropriate pivot table.\n",
    "**Hint**: Write a custom function."
   ]
  },
  {
   "cell_type": "code",
   "execution_count": 11,
   "metadata": {},
   "outputs": [
    {
     "data": {
      "text/plain": [
       "72.96356275303644"
      ]
     },
     "execution_count": 11,
     "metadata": {},
     "output_type": "execute_result"
    }
   ],
   "source": [
    "# your code here\n",
    "def mean_without_max(x):\n",
    "    maax=x.max()\n",
    "    return x[x!=maax].mean()\n",
    "mean_without_max(employees.Salary)"
   ]
  },
  {
   "cell_type": "code",
   "execution_count": 12,
   "metadata": {},
   "outputs": [
    {
     "data": {
      "text/plain": [
       "72.96356275303644"
      ]
     },
     "execution_count": 12,
     "metadata": {},
     "output_type": "execute_result"
    }
   ],
   "source": [
    "# or\n",
    "employees.Salary[employees.Salary!=employees.Salary.max()].mean()"
   ]
  },
  {
   "cell_type": "code",
   "execution_count": 13,
   "metadata": {},
   "outputs": [
    {
     "data": {
      "text/html": [
       "<div>\n",
       "<style scoped>\n",
       "    .dataframe tbody tr th:only-of-type {\n",
       "        vertical-align: middle;\n",
       "    }\n",
       "\n",
       "    .dataframe tbody tr th {\n",
       "        vertical-align: top;\n",
       "    }\n",
       "\n",
       "    .dataframe thead th {\n",
       "        text-align: right;\n",
       "    }\n",
       "</style>\n",
       "<table border=\"1\" class=\"dataframe\">\n",
       "  <thead>\n",
       "    <tr style=\"text-align: right;\">\n",
       "      <th></th>\n",
       "      <th>Salary</th>\n",
       "    </tr>\n",
       "    <tr>\n",
       "      <th>Department</th>\n",
       "      <th></th>\n",
       "    </tr>\n",
       "  </thead>\n",
       "  <tbody>\n",
       "    <tr>\n",
       "      <th>Admin</th>\n",
       "      <td>75.603306</td>\n",
       "    </tr>\n",
       "    <tr>\n",
       "      <th>HR</th>\n",
       "      <td>73.109244</td>\n",
       "    </tr>\n",
       "    <tr>\n",
       "      <th>IT</th>\n",
       "      <td>70.300752</td>\n",
       "    </tr>\n",
       "    <tr>\n",
       "      <th>Sales</th>\n",
       "      <td>71.940678</td>\n",
       "    </tr>\n",
       "  </tbody>\n",
       "</table>\n",
       "</div>"
      ],
      "text/plain": [
       "               Salary\n",
       "Department           \n",
       "Admin       75.603306\n",
       "HR          73.109244\n",
       "IT          70.300752\n",
       "Sales       71.940678"
      ]
     },
     "execution_count": 13,
     "metadata": {},
     "output_type": "execute_result"
    }
   ],
   "source": [
    "employees.pivot_table(index='Department', values='Salary', aggfunc=mean_without_max)"
   ]
  },
  {
   "cell_type": "markdown",
   "metadata": {},
   "source": [
    "# Challenge 2\n",
    "\n",
    "#### Read the `fitbit` dataset from Ironhack's database:\n",
    "* db: `fitbit`\n",
    "* table: `fitbit`\n",
    "\n",
    "Save your data in a variable called `fitbit`."
   ]
  },
  {
   "cell_type": "code",
   "execution_count": 14,
   "metadata": {
    "scrolled": true
   },
   "outputs": [
    {
     "data": {
      "text/html": [
       "<div>\n",
       "<style scoped>\n",
       "    .dataframe tbody tr th:only-of-type {\n",
       "        vertical-align: middle;\n",
       "    }\n",
       "\n",
       "    .dataframe tbody tr th {\n",
       "        vertical-align: top;\n",
       "    }\n",
       "\n",
       "    .dataframe thead th {\n",
       "        text-align: right;\n",
       "    }\n",
       "</style>\n",
       "<table border=\"1\" class=\"dataframe\">\n",
       "  <thead>\n",
       "    <tr style=\"text-align: right;\">\n",
       "      <th></th>\n",
       "      <th>Date</th>\n",
       "      <th>Calorie burned</th>\n",
       "      <th>Steps</th>\n",
       "      <th>Distance</th>\n",
       "      <th>Floors</th>\n",
       "      <th>Minutes Sedentary</th>\n",
       "      <th>Minutes Lightly Active</th>\n",
       "      <th>Minutes Fairly Active</th>\n",
       "      <th>Minutes Very Active</th>\n",
       "      <th>Activity Calories</th>\n",
       "      <th>MinutesOfSleep</th>\n",
       "      <th>MinutesOfBeingAwake</th>\n",
       "      <th>NumberOfAwakings</th>\n",
       "      <th>LengthOfRestInMinutes</th>\n",
       "    </tr>\n",
       "  </thead>\n",
       "  <tbody>\n",
       "    <tr>\n",
       "      <th>0</th>\n",
       "      <td>08-05-2015</td>\n",
       "      <td>1934</td>\n",
       "      <td>905</td>\n",
       "      <td>0.65</td>\n",
       "      <td>0</td>\n",
       "      <td>1.355</td>\n",
       "      <td>46</td>\n",
       "      <td>0</td>\n",
       "      <td>0</td>\n",
       "      <td>1680</td>\n",
       "      <td>384</td>\n",
       "      <td>26</td>\n",
       "      <td>23</td>\n",
       "      <td>417</td>\n",
       "    </tr>\n",
       "    <tr>\n",
       "      <th>1</th>\n",
       "      <td>09-05-2015</td>\n",
       "      <td>3631</td>\n",
       "      <td>18925</td>\n",
       "      <td>14.11</td>\n",
       "      <td>4</td>\n",
       "      <td>611.000</td>\n",
       "      <td>316</td>\n",
       "      <td>61</td>\n",
       "      <td>60</td>\n",
       "      <td>2248</td>\n",
       "      <td>454</td>\n",
       "      <td>35</td>\n",
       "      <td>21</td>\n",
       "      <td>491</td>\n",
       "    </tr>\n",
       "    <tr>\n",
       "      <th>2</th>\n",
       "      <td>10-05-2015</td>\n",
       "      <td>3204</td>\n",
       "      <td>14228</td>\n",
       "      <td>10.57</td>\n",
       "      <td>1</td>\n",
       "      <td>602.000</td>\n",
       "      <td>226</td>\n",
       "      <td>14</td>\n",
       "      <td>77</td>\n",
       "      <td>1719</td>\n",
       "      <td>387</td>\n",
       "      <td>46</td>\n",
       "      <td>25</td>\n",
       "      <td>436</td>\n",
       "    </tr>\n",
       "    <tr>\n",
       "      <th>3</th>\n",
       "      <td>11-05-2015</td>\n",
       "      <td>2673</td>\n",
       "      <td>6756</td>\n",
       "      <td>5.02</td>\n",
       "      <td>8</td>\n",
       "      <td>749.000</td>\n",
       "      <td>190</td>\n",
       "      <td>23</td>\n",
       "      <td>4</td>\n",
       "      <td>9620</td>\n",
       "      <td>311</td>\n",
       "      <td>31</td>\n",
       "      <td>21</td>\n",
       "      <td>350</td>\n",
       "    </tr>\n",
       "    <tr>\n",
       "      <th>4</th>\n",
       "      <td>12-05-2015</td>\n",
       "      <td>2495</td>\n",
       "      <td>502</td>\n",
       "      <td>3.73</td>\n",
       "      <td>1</td>\n",
       "      <td>876.000</td>\n",
       "      <td>171</td>\n",
       "      <td>0</td>\n",
       "      <td>0</td>\n",
       "      <td>7360</td>\n",
       "      <td>407</td>\n",
       "      <td>65</td>\n",
       "      <td>44</td>\n",
       "      <td>491</td>\n",
       "    </tr>\n",
       "    <tr>\n",
       "      <th>...</th>\n",
       "      <td>...</td>\n",
       "      <td>...</td>\n",
       "      <td>...</td>\n",
       "      <td>...</td>\n",
       "      <td>...</td>\n",
       "      <td>...</td>\n",
       "      <td>...</td>\n",
       "      <td>...</td>\n",
       "      <td>...</td>\n",
       "      <td>...</td>\n",
       "      <td>...</td>\n",
       "      <td>...</td>\n",
       "      <td>...</td>\n",
       "      <td>...</td>\n",
       "    </tr>\n",
       "    <tr>\n",
       "      <th>362</th>\n",
       "      <td>03-05-2016</td>\n",
       "      <td>3796</td>\n",
       "      <td>18588</td>\n",
       "      <td>14.13</td>\n",
       "      <td>16</td>\n",
       "      <td>599.000</td>\n",
       "      <td>275</td>\n",
       "      <td>49</td>\n",
       "      <td>79</td>\n",
       "      <td>236</td>\n",
       "      <td>377</td>\n",
       "      <td>33</td>\n",
       "      <td>18</td>\n",
       "      <td>410</td>\n",
       "    </tr>\n",
       "    <tr>\n",
       "      <th>363</th>\n",
       "      <td>04-05-2016</td>\n",
       "      <td>3525</td>\n",
       "      <td>16382</td>\n",
       "      <td>12.39</td>\n",
       "      <td>16</td>\n",
       "      <td>684.000</td>\n",
       "      <td>333</td>\n",
       "      <td>10</td>\n",
       "      <td>55</td>\n",
       "      <td>2075</td>\n",
       "      <td>406</td>\n",
       "      <td>21</td>\n",
       "      <td>8</td>\n",
       "      <td>427</td>\n",
       "    </tr>\n",
       "    <tr>\n",
       "      <th>364</th>\n",
       "      <td>05-05-2016</td>\n",
       "      <td>3649</td>\n",
       "      <td>21913</td>\n",
       "      <td>16.40</td>\n",
       "      <td>19</td>\n",
       "      <td>701.000</td>\n",
       "      <td>287</td>\n",
       "      <td>29</td>\n",
       "      <td>90</td>\n",
       "      <td>2249</td>\n",
       "      <td>280</td>\n",
       "      <td>35</td>\n",
       "      <td>15</td>\n",
       "      <td>315</td>\n",
       "    </tr>\n",
       "    <tr>\n",
       "      <th>365</th>\n",
       "      <td>06-05-2016</td>\n",
       "      <td>3539</td>\n",
       "      <td>19023</td>\n",
       "      <td>14.79</td>\n",
       "      <td>15</td>\n",
       "      <td>575.000</td>\n",
       "      <td>298</td>\n",
       "      <td>8</td>\n",
       "      <td>85</td>\n",
       "      <td>2112</td>\n",
       "      <td>370</td>\n",
       "      <td>42</td>\n",
       "      <td>22</td>\n",
       "      <td>412</td>\n",
       "    </tr>\n",
       "    <tr>\n",
       "      <th>366</th>\n",
       "      <td>07-05-2016</td>\n",
       "      <td>304</td>\n",
       "      <td>9526</td>\n",
       "      <td>7.08</td>\n",
       "      <td>2</td>\n",
       "      <td>564.000</td>\n",
       "      <td>370</td>\n",
       "      <td>13</td>\n",
       "      <td>10</td>\n",
       "      <td>1604</td>\n",
       "      <td>502</td>\n",
       "      <td>57</td>\n",
       "      <td>31</td>\n",
       "      <td>563</td>\n",
       "    </tr>\n",
       "  </tbody>\n",
       "</table>\n",
       "<p>367 rows × 14 columns</p>\n",
       "</div>"
      ],
      "text/plain": [
       "           Date  Calorie burned  Steps  Distance  Floors  Minutes Sedentary  \\\n",
       "0    08-05-2015            1934    905      0.65       0              1.355   \n",
       "1    09-05-2015            3631  18925     14.11       4            611.000   \n",
       "2    10-05-2015            3204  14228     10.57       1            602.000   \n",
       "3    11-05-2015            2673   6756      5.02       8            749.000   \n",
       "4    12-05-2015            2495    502      3.73       1            876.000   \n",
       "..          ...             ...    ...       ...     ...                ...   \n",
       "362  03-05-2016            3796  18588     14.13      16            599.000   \n",
       "363  04-05-2016            3525  16382     12.39      16            684.000   \n",
       "364  05-05-2016            3649  21913     16.40      19            701.000   \n",
       "365  06-05-2016            3539  19023     14.79      15            575.000   \n",
       "366  07-05-2016             304   9526      7.08       2            564.000   \n",
       "\n",
       "     Minutes Lightly Active  Minutes Fairly Active  Minutes Very Active  \\\n",
       "0                        46                      0                    0   \n",
       "1                       316                     61                   60   \n",
       "2                       226                     14                   77   \n",
       "3                       190                     23                    4   \n",
       "4                       171                      0                    0   \n",
       "..                      ...                    ...                  ...   \n",
       "362                     275                     49                   79   \n",
       "363                     333                     10                   55   \n",
       "364                     287                     29                   90   \n",
       "365                     298                      8                   85   \n",
       "366                     370                     13                   10   \n",
       "\n",
       "     Activity Calories  MinutesOfSleep  MinutesOfBeingAwake  NumberOfAwakings  \\\n",
       "0                 1680             384                   26                23   \n",
       "1                 2248             454                   35                21   \n",
       "2                 1719             387                   46                25   \n",
       "3                 9620             311                   31                21   \n",
       "4                 7360             407                   65                44   \n",
       "..                 ...             ...                  ...               ...   \n",
       "362                236             377                   33                18   \n",
       "363               2075             406                   21                 8   \n",
       "364               2249             280                   35                15   \n",
       "365               2112             370                   42                22   \n",
       "366               1604             502                   57                31   \n",
       "\n",
       "     LengthOfRestInMinutes  \n",
       "0                      417  \n",
       "1                      491  \n",
       "2                      436  \n",
       "3                      350  \n",
       "4                      491  \n",
       "..                     ...  \n",
       "362                    410  \n",
       "363                    427  \n",
       "364                    315  \n",
       "365                    412  \n",
       "366                    563  \n",
       "\n",
       "[367 rows x 14 columns]"
      ]
     },
     "execution_count": 14,
     "metadata": {},
     "output_type": "execute_result"
    }
   ],
   "source": [
    "# your code here\n",
    "fitbit = pd.read_csv('fitbit.csv')\n",
    "fitbit"
   ]
  },
  {
   "cell_type": "markdown",
   "metadata": {},
   "source": [
    "#### Explore you dataset in terms of data types and descriptive statistics.\n",
    "**Hint**: Use Pandas functions from previous lectures."
   ]
  },
  {
   "cell_type": "code",
   "execution_count": 15,
   "metadata": {},
   "outputs": [
    {
     "name": "stdout",
     "output_type": "stream",
     "text": [
      "<class 'pandas.core.frame.DataFrame'>\n",
      "RangeIndex: 367 entries, 0 to 366\n",
      "Data columns (total 14 columns):\n",
      " #   Column                  Non-Null Count  Dtype  \n",
      "---  ------                  --------------  -----  \n",
      " 0   Date                    367 non-null    object \n",
      " 1   Calorie burned          367 non-null    int64  \n",
      " 2   Steps                   367 non-null    int64  \n",
      " 3   Distance                367 non-null    float64\n",
      " 4   Floors                  367 non-null    int64  \n",
      " 5   Minutes Sedentary       367 non-null    float64\n",
      " 6   Minutes Lightly Active  367 non-null    int64  \n",
      " 7   Minutes Fairly Active   367 non-null    int64  \n",
      " 8   Minutes Very Active     367 non-null    int64  \n",
      " 9   Activity Calories       367 non-null    int64  \n",
      " 10  MinutesOfSleep          367 non-null    int64  \n",
      " 11  MinutesOfBeingAwake     367 non-null    int64  \n",
      " 12  NumberOfAwakings        367 non-null    int64  \n",
      " 13  LengthOfRestInMinutes   367 non-null    int64  \n",
      "dtypes: float64(2), int64(11), object(1)\n",
      "memory usage: 40.3+ KB\n"
     ]
    }
   ],
   "source": [
    "fitbit.info()"
   ]
  },
  {
   "cell_type": "code",
   "execution_count": 16,
   "metadata": {},
   "outputs": [
    {
     "data": {
      "text/html": [
       "<div>\n",
       "<style scoped>\n",
       "    .dataframe tbody tr th:only-of-type {\n",
       "        vertical-align: middle;\n",
       "    }\n",
       "\n",
       "    .dataframe tbody tr th {\n",
       "        vertical-align: top;\n",
       "    }\n",
       "\n",
       "    .dataframe thead th {\n",
       "        text-align: right;\n",
       "    }\n",
       "</style>\n",
       "<table border=\"1\" class=\"dataframe\">\n",
       "  <thead>\n",
       "    <tr style=\"text-align: right;\">\n",
       "      <th></th>\n",
       "      <th>Calorie burned</th>\n",
       "      <th>Steps</th>\n",
       "      <th>Distance</th>\n",
       "      <th>Floors</th>\n",
       "      <th>Minutes Sedentary</th>\n",
       "      <th>Minutes Lightly Active</th>\n",
       "      <th>Minutes Fairly Active</th>\n",
       "      <th>Minutes Very Active</th>\n",
       "      <th>Activity Calories</th>\n",
       "      <th>MinutesOfSleep</th>\n",
       "      <th>MinutesOfBeingAwake</th>\n",
       "      <th>NumberOfAwakings</th>\n",
       "      <th>LengthOfRestInMinutes</th>\n",
       "    </tr>\n",
       "  </thead>\n",
       "  <tbody>\n",
       "    <tr>\n",
       "      <th>count</th>\n",
       "      <td>367.000000</td>\n",
       "      <td>367.000000</td>\n",
       "      <td>367.000000</td>\n",
       "      <td>367.000000</td>\n",
       "      <td>367.000000</td>\n",
       "      <td>367.000000</td>\n",
       "      <td>367.000000</td>\n",
       "      <td>367.000000</td>\n",
       "      <td>367.000000</td>\n",
       "      <td>367.000000</td>\n",
       "      <td>367.000000</td>\n",
       "      <td>367.000000</td>\n",
       "      <td>367.000000</td>\n",
       "    </tr>\n",
       "    <tr>\n",
       "      <th>mean</th>\n",
       "      <td>2741.501362</td>\n",
       "      <td>10121.588556</td>\n",
       "      <td>8.549128</td>\n",
       "      <td>11.724796</td>\n",
       "      <td>563.934482</td>\n",
       "      <td>236.405995</td>\n",
       "      <td>26.163488</td>\n",
       "      <td>35.722071</td>\n",
       "      <td>2044.147139</td>\n",
       "      <td>290.479564</td>\n",
       "      <td>28.008174</td>\n",
       "      <td>16.196185</td>\n",
       "      <td>321.343324</td>\n",
       "    </tr>\n",
       "    <tr>\n",
       "      <th>std</th>\n",
       "      <td>916.307036</td>\n",
       "      <td>5594.836225</td>\n",
       "      <td>3.409881</td>\n",
       "      <td>10.337370</td>\n",
       "      <td>294.793145</td>\n",
       "      <td>86.531376</td>\n",
       "      <td>20.319456</td>\n",
       "      <td>31.006682</td>\n",
       "      <td>2041.267168</td>\n",
       "      <td>154.752328</td>\n",
       "      <td>18.541415</td>\n",
       "      <td>10.757622</td>\n",
       "      <td>170.786726</td>\n",
       "    </tr>\n",
       "    <tr>\n",
       "      <th>min</th>\n",
       "      <td>179.000000</td>\n",
       "      <td>0.000000</td>\n",
       "      <td>0.000000</td>\n",
       "      <td>0.000000</td>\n",
       "      <td>1.002000</td>\n",
       "      <td>0.000000</td>\n",
       "      <td>0.000000</td>\n",
       "      <td>0.000000</td>\n",
       "      <td>0.000000</td>\n",
       "      <td>0.000000</td>\n",
       "      <td>0.000000</td>\n",
       "      <td>0.000000</td>\n",
       "      <td>0.000000</td>\n",
       "    </tr>\n",
       "    <tr>\n",
       "      <th>25%</th>\n",
       "      <td>2698.000000</td>\n",
       "      <td>6730.500000</td>\n",
       "      <td>6.155000</td>\n",
       "      <td>5.000000</td>\n",
       "      <td>520.000000</td>\n",
       "      <td>179.000000</td>\n",
       "      <td>8.000000</td>\n",
       "      <td>10.500000</td>\n",
       "      <td>1218.500000</td>\n",
       "      <td>224.000000</td>\n",
       "      <td>14.000000</td>\n",
       "      <td>7.000000</td>\n",
       "      <td>248.000000</td>\n",
       "    </tr>\n",
       "    <tr>\n",
       "      <th>50%</th>\n",
       "      <td>2974.000000</td>\n",
       "      <td>10413.000000</td>\n",
       "      <td>8.290000</td>\n",
       "      <td>11.000000</td>\n",
       "      <td>663.000000</td>\n",
       "      <td>226.000000</td>\n",
       "      <td>24.000000</td>\n",
       "      <td>29.000000</td>\n",
       "      <td>1553.000000</td>\n",
       "      <td>337.000000</td>\n",
       "      <td>29.000000</td>\n",
       "      <td>16.000000</td>\n",
       "      <td>370.000000</td>\n",
       "    </tr>\n",
       "    <tr>\n",
       "      <th>75%</th>\n",
       "      <td>3233.000000</td>\n",
       "      <td>13916.500000</td>\n",
       "      <td>10.560000</td>\n",
       "      <td>16.000000</td>\n",
       "      <td>756.500000</td>\n",
       "      <td>290.000000</td>\n",
       "      <td>41.500000</td>\n",
       "      <td>54.000000</td>\n",
       "      <td>1927.500000</td>\n",
       "      <td>400.500000</td>\n",
       "      <td>41.500000</td>\n",
       "      <td>24.000000</td>\n",
       "      <td>440.500000</td>\n",
       "    </tr>\n",
       "    <tr>\n",
       "      <th>max</th>\n",
       "      <td>4351.000000</td>\n",
       "      <td>26444.000000</td>\n",
       "      <td>20.450000</td>\n",
       "      <td>101.000000</td>\n",
       "      <td>998.000000</td>\n",
       "      <td>472.000000</td>\n",
       "      <td>101.000000</td>\n",
       "      <td>153.000000</td>\n",
       "      <td>9830.000000</td>\n",
       "      <td>553.000000</td>\n",
       "      <td>78.000000</td>\n",
       "      <td>45.000000</td>\n",
       "      <td>607.000000</td>\n",
       "    </tr>\n",
       "  </tbody>\n",
       "</table>\n",
       "</div>"
      ],
      "text/plain": [
       "       Calorie burned         Steps    Distance      Floors  \\\n",
       "count      367.000000    367.000000  367.000000  367.000000   \n",
       "mean      2741.501362  10121.588556    8.549128   11.724796   \n",
       "std        916.307036   5594.836225    3.409881   10.337370   \n",
       "min        179.000000      0.000000    0.000000    0.000000   \n",
       "25%       2698.000000   6730.500000    6.155000    5.000000   \n",
       "50%       2974.000000  10413.000000    8.290000   11.000000   \n",
       "75%       3233.000000  13916.500000   10.560000   16.000000   \n",
       "max       4351.000000  26444.000000   20.450000  101.000000   \n",
       "\n",
       "       Minutes Sedentary  Minutes Lightly Active  Minutes Fairly Active  \\\n",
       "count         367.000000              367.000000             367.000000   \n",
       "mean          563.934482              236.405995              26.163488   \n",
       "std           294.793145               86.531376              20.319456   \n",
       "min             1.002000                0.000000               0.000000   \n",
       "25%           520.000000              179.000000               8.000000   \n",
       "50%           663.000000              226.000000              24.000000   \n",
       "75%           756.500000              290.000000              41.500000   \n",
       "max           998.000000              472.000000             101.000000   \n",
       "\n",
       "       Minutes Very Active  Activity Calories  MinutesOfSleep  \\\n",
       "count           367.000000         367.000000      367.000000   \n",
       "mean             35.722071        2044.147139      290.479564   \n",
       "std              31.006682        2041.267168      154.752328   \n",
       "min               0.000000           0.000000        0.000000   \n",
       "25%              10.500000        1218.500000      224.000000   \n",
       "50%              29.000000        1553.000000      337.000000   \n",
       "75%              54.000000        1927.500000      400.500000   \n",
       "max             153.000000        9830.000000      553.000000   \n",
       "\n",
       "       MinutesOfBeingAwake  NumberOfAwakings  LengthOfRestInMinutes  \n",
       "count           367.000000        367.000000             367.000000  \n",
       "mean             28.008174         16.196185             321.343324  \n",
       "std              18.541415         10.757622             170.786726  \n",
       "min               0.000000          0.000000               0.000000  \n",
       "25%              14.000000          7.000000             248.000000  \n",
       "50%              29.000000         16.000000             370.000000  \n",
       "75%              41.500000         24.000000             440.500000  \n",
       "max              78.000000         45.000000             607.000000  "
      ]
     },
     "execution_count": 16,
     "metadata": {},
     "output_type": "execute_result"
    }
   ],
   "source": [
    "# your code here\n",
    "fitbit.describe()"
   ]
  },
  {
   "cell_type": "markdown",
   "metadata": {},
   "source": [
    "#### You suspect that there must be a linear relationship between the `Minutes Very Active` and the `Steps`. Compute the correlation between these variables."
   ]
  },
  {
   "cell_type": "code",
   "execution_count": 17,
   "metadata": {},
   "outputs": [
    {
     "data": {
      "text/plain": [
       "0.5714518481062609"
      ]
     },
     "execution_count": 17,
     "metadata": {},
     "output_type": "execute_result"
    }
   ],
   "source": [
    "fitbit['Minutes Very Active'].corr(fitbit['Steps'])"
   ]
  },
  {
   "cell_type": "code",
   "execution_count": null,
   "metadata": {},
   "outputs": [],
   "source": [
    "\"\"\"Coeff between 'Min Very Active' and 'Steps' = 0.571452, it's a moderate correlation\"\"\""
   ]
  },
  {
   "cell_type": "markdown",
   "metadata": {},
   "source": [
    "#### Use matplotlib to visually plot `Minutes Very active` vs `Steps`. We'll work with matplotlib next week. As a first introduction, uncomment and complete the following code. You need to replace the # symbol for the correct function arguments. "
   ]
  },
  {
   "cell_type": "code",
   "execution_count": 18,
   "metadata": {},
   "outputs": [],
   "source": [
    "import matplotlib.pyplot as plt;"
   ]
  },
  {
   "cell_type": "code",
   "execution_count": 19,
   "metadata": {},
   "outputs": [
    {
     "data": {
      "image/png": "[encoded data removed]",
      "text/plain": [
       "<Figure size 432x288 with 1 Axes>"
      ]
     },
     "metadata": {
      "needs_background": "light"
     },
     "output_type": "display_data"
    }
   ],
   "source": [
    "plt.scatter('Minutes Very Active', 'Steps', data=fitbit)\n",
    "plt.title('Minutes very active vs Steps')\n",
    "plt.xlabel('Minutes very active')\n",
    "plt.ylabel('Steps')\n",
    "plt.show()"
   ]
  },
  {
   "cell_type": "markdown",
   "metadata": {},
   "source": [
    "#### What can you say about `Minutes Very Active` and `Steps`? Write a comment below."
   ]
  },
  {
   "cell_type": "code",
   "execution_count": null,
   "metadata": {},
   "outputs": [],
   "source": [
    "\"\"\"\n",
    "There is a correlation between Minutes Very Active and Steps.\n",
    "As Minutes Very Active increases, Steps also increases.\n",
    "There is a positive linear relationship.\n",
    "\"\"\""
   ]
  },
  {
   "cell_type": "markdown",
   "metadata": {},
   "source": [
    "#### We also suspect that there must be a linear relationship between the `Minutes Sedentary` and the `Steps`. Compute the correlation between these variables."
   ]
  },
  {
   "cell_type": "code",
   "execution_count": 20,
   "metadata": {},
   "outputs": [
    {
     "data": {
      "text/plain": [
       "0.07690608062990095"
      ]
     },
     "execution_count": 20,
     "metadata": {},
     "output_type": "execute_result"
    }
   ],
   "source": [
    "# your code here\n",
    "fitbit['Minutes Sedentary'].corr(fitbit['Steps'])"
   ]
  },
  {
   "cell_type": "code",
   "execution_count": null,
   "metadata": {},
   "outputs": [],
   "source": [
    "\"\"\"Coeff between 'Min Sedentary' and 'Steps' < 0.2, there is no correlation between thoses values\"\"\""
   ]
  },
  {
   "cell_type": "markdown",
   "metadata": {},
   "source": [
    "#### Use matplotlib to visually plot `Minutes Sedentary` vs `Steps`. Based on the results of the computed correlation and the plot, what can you say about these 2 variables?"
   ]
  },
  {
   "cell_type": "code",
   "execution_count": 21,
   "metadata": {},
   "outputs": [
    {
     "data": {
      "image/png": "[encoded data removed]",
      "text/plain": [
       "<Figure size 432x288 with 1 Axes>"
      ]
     },
     "metadata": {
      "needs_background": "light"
     },
     "output_type": "display_data"
    }
   ],
   "source": [
    "# your code here\n",
    "plt.scatter('Minutes Sedentary', 'Steps', data=fitbit)\n",
    "plt.title('Minutes very active vs Steps')\n",
    "plt.xlabel('Minutes very active')\n",
    "plt.ylabel('Steps')\n",
    "plt.show()"
   ]
  },
  {
   "cell_type": "code",
   "execution_count": null,
   "metadata": {},
   "outputs": [],
   "source": [
    "\"\"\"\n",
    "It seems that there is no correlation between those variables.\n",
    "\"\"\""
   ]
  },
  {
   "cell_type": "markdown",
   "metadata": {},
   "source": [
    "#### We also suspect that there must be a linear relationship between the `MinutesOfSleep` and the `Steps`. Compute the correlation between these variables."
   ]
  },
  {
   "cell_type": "code",
   "execution_count": 22,
   "metadata": {},
   "outputs": [
    {
     "data": {
      "text/plain": [
       "0.13098565950836383"
      ]
     },
     "execution_count": 22,
     "metadata": {},
     "output_type": "execute_result"
    }
   ],
   "source": [
    "# your code here\n",
    "fitbit['MinutesOfSleep'].corr(fitbit['Steps'])"
   ]
  },
  {
   "cell_type": "code",
   "execution_count": null,
   "metadata": {},
   "outputs": [],
   "source": [
    "\"\"\"Coeff between 'MinutesOfSleep' and 'Steps' < 0.2, there is no correlation between thoses values\"\"\""
   ]
  },
  {
   "cell_type": "markdown",
   "metadata": {},
   "source": [
    "#### Use matplotlib to visually plot `MinutesOfSleep` vs `Steps`. Based on the results of the computed correlation and the plot, what can you say about these 2 variables?"
   ]
  },
  {
   "cell_type": "code",
   "execution_count": 23,
   "metadata": {},
   "outputs": [
    {
     "data": {
      "image/png": "[encoded data removed]",
      "text/plain": [
       "<Figure size 432x288 with 1 Axes>"
      ]
     },
     "metadata": {
      "needs_background": "light"
     },
     "output_type": "display_data"
    }
   ],
   "source": [
    "# your code here\n",
    "plt.scatter('MinutesOfSleep', 'Steps', data=fitbit)\n",
    "plt.title('Minutes very active vs Steps')\n",
    "plt.xlabel('Minutes very active')\n",
    "plt.ylabel('Steps')\n",
    "plt.show()"
   ]
  },
  {
   "cell_type": "code",
   "execution_count": null,
   "metadata": {},
   "outputs": [],
   "source": [
    "\"\"\"\n",
    "It seems that there is no correlation between those variables.\n",
    "\"\"\""
   ]
  },
  {
   "cell_type": "markdown",
   "metadata": {},
   "source": [
    "#### Select a subset of your dataset with the columns below and compute the correlation matrix. Save the results in the variable `cor_fit`."
   ]
  },
  {
   "cell_type": "code",
   "execution_count": 24,
   "metadata": {},
   "outputs": [
    {
     "data": {
      "text/html": [
       "<div>\n",
       "<style scoped>\n",
       "    .dataframe tbody tr th:only-of-type {\n",
       "        vertical-align: middle;\n",
       "    }\n",
       "\n",
       "    .dataframe tbody tr th {\n",
       "        vertical-align: top;\n",
       "    }\n",
       "\n",
       "    .dataframe thead th {\n",
       "        text-align: right;\n",
       "    }\n",
       "</style>\n",
       "<table border=\"1\" class=\"dataframe\">\n",
       "  <thead>\n",
       "    <tr style=\"text-align: right;\">\n",
       "      <th></th>\n",
       "      <th>Calorie burned</th>\n",
       "      <th>Steps</th>\n",
       "      <th>Floors</th>\n",
       "      <th>Minutes Sedentary</th>\n",
       "      <th>Minutes Very Active</th>\n",
       "      <th>MinutesOfSleep</th>\n",
       "    </tr>\n",
       "  </thead>\n",
       "  <tbody>\n",
       "    <tr>\n",
       "      <th>Calorie burned</th>\n",
       "      <td>1.000000</td>\n",
       "      <td>0.255305</td>\n",
       "      <td>0.130757</td>\n",
       "      <td>0.125353</td>\n",
       "      <td>0.197881</td>\n",
       "      <td>0.011485</td>\n",
       "    </tr>\n",
       "    <tr>\n",
       "      <th>Steps</th>\n",
       "      <td>0.255305</td>\n",
       "      <td>1.000000</td>\n",
       "      <td>0.306511</td>\n",
       "      <td>0.076906</td>\n",
       "      <td>0.571452</td>\n",
       "      <td>0.130986</td>\n",
       "    </tr>\n",
       "    <tr>\n",
       "      <th>Floors</th>\n",
       "      <td>0.130757</td>\n",
       "      <td>0.306511</td>\n",
       "      <td>1.000000</td>\n",
       "      <td>0.057812</td>\n",
       "      <td>0.399503</td>\n",
       "      <td>0.069464</td>\n",
       "    </tr>\n",
       "    <tr>\n",
       "      <th>Minutes Sedentary</th>\n",
       "      <td>0.125353</td>\n",
       "      <td>0.076906</td>\n",
       "      <td>0.057812</td>\n",
       "      <td>1.000000</td>\n",
       "      <td>0.105963</td>\n",
       "      <td>0.204242</td>\n",
       "    </tr>\n",
       "    <tr>\n",
       "      <th>Minutes Very Active</th>\n",
       "      <td>0.197881</td>\n",
       "      <td>0.571452</td>\n",
       "      <td>0.399503</td>\n",
       "      <td>0.105963</td>\n",
       "      <td>1.000000</td>\n",
       "      <td>0.108018</td>\n",
       "    </tr>\n",
       "    <tr>\n",
       "      <th>MinutesOfSleep</th>\n",
       "      <td>0.011485</td>\n",
       "      <td>0.130986</td>\n",
       "      <td>0.069464</td>\n",
       "      <td>0.204242</td>\n",
       "      <td>0.108018</td>\n",
       "      <td>1.000000</td>\n",
       "    </tr>\n",
       "  </tbody>\n",
       "</table>\n",
       "</div>"
      ],
      "text/plain": [
       "                     Calorie burned     Steps    Floors  Minutes Sedentary  \\\n",
       "Calorie burned             1.000000  0.255305  0.130757           0.125353   \n",
       "Steps                      0.255305  1.000000  0.306511           0.076906   \n",
       "Floors                     0.130757  0.306511  1.000000           0.057812   \n",
       "Minutes Sedentary          0.125353  0.076906  0.057812           1.000000   \n",
       "Minutes Very Active        0.197881  0.571452  0.399503           0.105963   \n",
       "MinutesOfSleep             0.011485  0.130986  0.069464           0.204242   \n",
       "\n",
       "                     Minutes Very Active  MinutesOfSleep  \n",
       "Calorie burned                  0.197881        0.011485  \n",
       "Steps                           0.571452        0.130986  \n",
       "Floors                          0.399503        0.069464  \n",
       "Minutes Sedentary               0.105963        0.204242  \n",
       "Minutes Very Active             1.000000        0.108018  \n",
       "MinutesOfSleep                  0.108018        1.000000  "
      ]
     },
     "execution_count": 24,
     "metadata": {},
     "output_type": "execute_result"
    }
   ],
   "source": [
    "cor_fit = fitbit[['Calorie burned', 'Steps', 'Floors', 'Minutes Sedentary', 'Minutes Very Active', 'MinutesOfSleep']].corr()\n",
    "cor_fit"
   ]
  },
  {
   "cell_type": "markdown",
   "metadata": {},
   "source": [
    "#### Based on the result of the correlation matrix, which of the features are highly correlated with variable `Steps`?\n",
    "**Hint**: sort the correlations of `Steps` vs the rest of the features in descending order. You can use Pandas `sort_values`. "
   ]
  },
  {
   "cell_type": "code",
   "execution_count": 25,
   "metadata": {},
   "outputs": [
    {
     "data": {
      "text/plain": [
       "Steps                  1.000000\n",
       "Minutes Very Active    0.571452\n",
       "Floors                 0.306511\n",
       "Calorie burned         0.255305\n",
       "MinutesOfSleep         0.130986\n",
       "Minutes Sedentary      0.076906\n",
       "Name: Steps, dtype: float64"
      ]
     },
     "execution_count": 25,
     "metadata": {},
     "output_type": "execute_result"
    }
   ],
   "source": [
    "# your code here\n",
    "cor_fit.Steps.sort_values(ascending=False)"
   ]
  },
  {
   "cell_type": "code",
   "execution_count": null,
   "metadata": {},
   "outputs": [],
   "source": [
    "\"\"\"Steps values are the most correlated to 'Minutes Very Active' values (moderate correlation)\"\"\""
   ]
  },
  {
   "cell_type": "markdown",
   "metadata": {},
   "source": [
    "# Challenge 3\n",
    "\n",
    "#### Read the `time_grades` dataset from Ironhack's database:\n",
    "* db: `time_grades`\n",
    "* table: `time_grades`\n",
    "\n",
    "Save your data in a variable called `time_grades`."
   ]
  },
  {
   "cell_type": "code",
   "execution_count": 26,
   "metadata": {},
   "outputs": [
    {
     "data": {
      "text/html": [
       "<div>\n",
       "<style scoped>\n",
       "    .dataframe tbody tr th:only-of-type {\n",
       "        vertical-align: middle;\n",
       "    }\n",
       "\n",
       "    .dataframe tbody tr th {\n",
       "        vertical-align: top;\n",
       "    }\n",
       "\n",
       "    .dataframe thead th {\n",
       "        text-align: right;\n",
       "    }\n",
       "</style>\n",
       "<table border=\"1\" class=\"dataframe\">\n",
       "  <thead>\n",
       "    <tr style=\"text-align: right;\">\n",
       "      <th></th>\n",
       "      <th>Name</th>\n",
       "      <th>Study time</th>\n",
       "      <th>Grade</th>\n",
       "    </tr>\n",
       "  </thead>\n",
       "  <tbody>\n",
       "    <tr>\n",
       "      <th>0</th>\n",
       "      <td>Jose</td>\n",
       "      <td>4</td>\n",
       "      <td>4</td>\n",
       "    </tr>\n",
       "    <tr>\n",
       "      <th>1</th>\n",
       "      <td>Maria</td>\n",
       "      <td>9</td>\n",
       "      <td>7</td>\n",
       "    </tr>\n",
       "    <tr>\n",
       "      <th>2</th>\n",
       "      <td>David</td>\n",
       "      <td>8</td>\n",
       "      <td>9</td>\n",
       "    </tr>\n",
       "    <tr>\n",
       "      <th>3</th>\n",
       "      <td>Sonia</td>\n",
       "      <td>10</td>\n",
       "      <td>7</td>\n",
       "    </tr>\n",
       "    <tr>\n",
       "      <th>4</th>\n",
       "      <td>Samuel</td>\n",
       "      <td>20</td>\n",
       "      <td>9</td>\n",
       "    </tr>\n",
       "    <tr>\n",
       "      <th>5</th>\n",
       "      <td>Eva</td>\n",
       "      <td>5</td>\n",
       "      <td>3</td>\n",
       "    </tr>\n",
       "    <tr>\n",
       "      <th>6</th>\n",
       "      <td>Carlos</td>\n",
       "      <td>12</td>\n",
       "      <td>7</td>\n",
       "    </tr>\n",
       "    <tr>\n",
       "      <th>7</th>\n",
       "      <td>Pedro</td>\n",
       "      <td>6</td>\n",
       "      <td>5</td>\n",
       "    </tr>\n",
       "    <tr>\n",
       "      <th>8</th>\n",
       "      <td>Ana</td>\n",
       "      <td>18</td>\n",
       "      <td>9</td>\n",
       "    </tr>\n",
       "    <tr>\n",
       "      <th>9</th>\n",
       "      <td>Gervasio</td>\n",
       "      <td>7</td>\n",
       "      <td>3</td>\n",
       "    </tr>\n",
       "    <tr>\n",
       "      <th>10</th>\n",
       "      <td>Gemma</td>\n",
       "      <td>7</td>\n",
       "      <td>8</td>\n",
       "    </tr>\n",
       "    <tr>\n",
       "      <th>11</th>\n",
       "      <td>Alicia</td>\n",
       "      <td>11</td>\n",
       "      <td>7</td>\n",
       "    </tr>\n",
       "    <tr>\n",
       "      <th>12</th>\n",
       "      <td>Jonathan</td>\n",
       "      <td>2</td>\n",
       "      <td>1</td>\n",
       "    </tr>\n",
       "    <tr>\n",
       "      <th>13</th>\n",
       "      <td>Cristina</td>\n",
       "      <td>13</td>\n",
       "      <td>8</td>\n",
       "    </tr>\n",
       "    <tr>\n",
       "      <th>14</th>\n",
       "      <td>Pilar</td>\n",
       "      <td>3</td>\n",
       "      <td>2</td>\n",
       "    </tr>\n",
       "  </tbody>\n",
       "</table>\n",
       "</div>"
      ],
      "text/plain": [
       "        Name  Study time  Grade\n",
       "0       Jose           4      4\n",
       "1      Maria           9      7\n",
       "2      David           8      9\n",
       "3      Sonia          10      7\n",
       "4     Samuel          20      9\n",
       "5        Eva           5      3\n",
       "6     Carlos          12      7\n",
       "7      Pedro           6      5\n",
       "8        Ana          18      9\n",
       "9   Gervasio           7      3\n",
       "10     Gemma           7      8\n",
       "11    Alicia          11      7\n",
       "12  Jonathan           2      1\n",
       "13  Cristina          13      8\n",
       "14     Pilar           3      2"
      ]
     },
     "execution_count": 26,
     "metadata": {},
     "output_type": "execute_result"
    }
   ],
   "source": [
    "# your code here\n",
    "time_grades = pd.read_csv('Time_Grades.csv')\n",
    "time_grades"
   ]
  },
  {
   "cell_type": "markdown",
   "metadata": {},
   "source": [
    "#### Show visually the frequency distribution of the `time_grades` dataset."
   ]
  },
  {
   "cell_type": "code",
   "execution_count": 27,
   "metadata": {},
   "outputs": [
    {
     "data": {
      "image/png": "[encoded data removed]",
      "text/plain": [
       "<Figure size 720x288 with 2 Axes>"
      ]
     },
     "metadata": {
      "needs_background": "light"
     },
     "output_type": "display_data"
    }
   ],
   "source": [
    "# your code here\n",
    "time_grades.hist(figsize=(10,4), bins=40)\n",
    "plt.show()"
   ]
  },
  {
   "cell_type": "markdown",
   "metadata": {},
   "source": [
    "#### Is there a correlation between `Study time` and `Grade`? Use both Pearson and Spearman correlations and comment your results."
   ]
  },
  {
   "cell_type": "code",
   "execution_count": 28,
   "metadata": {},
   "outputs": [
    {
     "data": {
      "text/plain": [
       "0.7980456073578857"
      ]
     },
     "execution_count": 28,
     "metadata": {},
     "output_type": "execute_result"
    }
   ],
   "source": [
    "# your code here\n",
    "time_grades['Study time'].corr(time_grades['Grade'])"
   ]
  },
  {
   "cell_type": "code",
   "execution_count": 29,
   "metadata": {},
   "outputs": [
    {
     "data": {
      "text/plain": [
       "0.819658753036942"
      ]
     },
     "execution_count": 29,
     "metadata": {},
     "output_type": "execute_result"
    }
   ],
   "source": [
    "time_grades['Study time'].corr(time_grades['Grade'], method='spearman')"
   ]
  },
  {
   "cell_type": "code",
   "execution_count": null,
   "metadata": {},
   "outputs": [],
   "source": [
    "\"\"\"\n",
    "The correlation between 'Study Time' and 'Grade' is near 0.8 in both method.\n",
    "There is a strong correlation between those variables.\n",
    "\"\"\""
   ]
  },
  {
   "cell_type": "markdown",
   "metadata": {},
   "source": [
    "#### Use matplotlib to visually plot `Study time` vs `Grade`. Based on the results of the computed correlation and the plot, what can you say about these 2 variables?"
   ]
  },
  {
   "cell_type": "code",
   "execution_count": 30,
   "metadata": {},
   "outputs": [
    {
     "data": {
      "image/png": "[encoded data removed]",
      "text/plain": [
       "<Figure size 432x288 with 1 Axes>"
      ]
     },
     "metadata": {
      "needs_background": "light"
     },
     "output_type": "display_data"
    }
   ],
   "source": [
    "# your code here\n",
    "plt.scatter('Study time', 'Grade', data=time_grades)\n",
    "plt.title('Study time vs Grade')\n",
    "plt.xlabel('Study time')\n",
    "plt.ylabel('Grade')\n",
    "plt.show()"
   ]
  },
  {
   "cell_type": "code",
   "execution_count": null,
   "metadata": {},
   "outputs": [],
   "source": [
    "\"\"\"There is a high correlation between study time and grades. As study time increases, grades also increase.\"\"\""
   ]
  },
  {
   "cell_type": "markdown",
   "metadata": {},
   "source": [
    "#### Could you explain the difference between Pearson and Spearman correlations?"
   ]
  },
  {
   "cell_type": "code",
   "execution_count": null,
   "metadata": {},
   "outputs": [],
   "source": [
    "\"\"\"\n",
    "Spearman correlation is a special case of Pearson's correlation.\n",
    "\n",
    "The Spearman correlation evaluates the monotonic relationship between two continuous or ordinal variables\n",
    "(the variables tend to change together, but not necessarily at a constant rate).\n",
    "\n",
    "The Pearson correlation evaluates the linear relationship between two continuous variables\n",
    "(a change in one variable is associated with a proportional change in the other variable).\n",
    "\"\"\""
   ]
  }
 ],
 "metadata": {
  "anaconda-cloud": {},
  "kernelspec": {
   "display_name": "Python 3",
   "language": "python",
   "name": "python3"
  },
  "language_info": {
   "codemirror_mode": {
    "name": "ipython",
    "version": 3
   },
   "file_extension": ".py",
   "mimetype": "text/x-python",
   "name": "python",
   "nbconvert_exporter": "python",
   "pygments_lexer": "ipython3",
   "version": "3.7.6"
  }
 },
 "nbformat": 4,
 "nbformat_minor": 1
}
